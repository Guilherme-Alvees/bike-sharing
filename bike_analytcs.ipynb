{
 "cells": [
  {
   "cell_type": "code",
   "execution_count": 3,
   "id": "9817ee88",
   "metadata": {},
   "outputs": [
    {
     "name": "stdout",
     "output_type": "stream",
     "text": [
      "     datetime  rec_id  season  year  month  hour  is_holiday  weekday  \\\n",
      "0  2011-01-01       1       1     0      1     0           0        6   \n",
      "1  2011-01-01       2       1     0      1     1           0        6   \n",
      "2  2011-01-01       3       1     0      1     2           0        6   \n",
      "3  2011-01-01       4       1     0      1     3           0        6   \n",
      "4  2011-01-01       5       1     0      1     4           0        6   \n",
      "\n",
      "   is_workingday  weather_condition  temp   atemp  humidity  windspeed  \\\n",
      "0              0                  1  0.24  0.2879      0.81        0.0   \n",
      "1              0                  1  0.22  0.2727      0.80        0.0   \n",
      "2              0                  1  0.22  0.2727      0.80        0.0   \n",
      "3              0                  1  0.24  0.2879      0.75        0.0   \n",
      "4              0                  1  0.24  0.2879      0.75        0.0   \n",
      "\n",
      "   casual  registered  total_count  \n",
      "0       3          13           16  \n",
      "1       8          32           40  \n",
      "2       5          27           32  \n",
      "3       3          10           13  \n",
      "4       0           1            1  \n",
      "Deu bom\n"
     ]
    }
   ],
   "source": [
    "from zipfile import ZipFile\n",
    "import requests\n",
    "import pandas as pd\n",
    "\n",
    "# URL do arquivo compactado\n",
    "url = \"https://github.com/GuitoDev/bike-sharing/raw/main/bike-sharing.zip\"\n",
    "\n",
    "try:\n",
    "    # Baixa o arquivo compactado\n",
    "    response = requests.get(url)\n",
    "\n",
    "    # Escreve o arquivo compactado em disco\n",
    "    with open(\"bike-sharing.zip\", \"wb\") as f:\n",
    "        f.write(response.content)\n",
    "\n",
    "    # Descompacta o arquivo\n",
    "    with ZipFile(\"bike-sharing.zip\", \"r\") as zip:\n",
    "        zip.extractall()\n",
    "\n",
    "    # Lê o arquivo CSV descompactado\n",
    "    df = pd.read_csv(\"bike-sharing.csv\")\n",
    "\n",
    "    # Exibe as primeiras linhas do DataFrame\n",
    "    print(df.head())\n",
    "\n",
    "    # Exibe a média da duração\n",
    "    print(\"Deu bom\")\n",
    "\n",
    "except Exception as e:\n",
    "    print(\"deu ruim\")\n"
   ]
  },
  {
   "cell_type": "code",
   "execution_count": 5,
   "id": "ca2c3359",
   "metadata": {},
   "outputs": [
    {
     "name": "stdout",
     "output_type": "stream",
     "text": [
      "17379\n"
     ]
    }
   ],
   "source": [
    "#1. Qual o tamanho desse dataset?\n",
    "dataset_size = len(df)\n",
    "print(dataset_size)"
   ]
  },
  {
   "cell_type": "code",
   "execution_count": 25,
   "id": "fea9a222",
   "metadata": {},
   "outputs": [
    {
     "name": "stdout",
     "output_type": "stream",
     "text": [
      "0.19009760630646177\n"
     ]
    }
   ],
   "source": [
    "#2. Qual a média da coluna windspeed?\n",
    "media_windspeed = df['windspeed'].mean();\n",
    "print(media_windspeed);"
   ]
  },
  {
   "cell_type": "code",
   "execution_count": 24,
   "id": "9f9fa8fe",
   "metadata": {},
   "outputs": [
    {
     "name": "stdout",
     "output_type": "stream",
     "text": [
      "0.4969871684216583\n"
     ]
    }
   ],
   "source": [
    "#3. Qual a média da coluna temp?\n",
    "media_temp = df['temp'].mean();\n",
    "print(media_temp)"
   ]
  },
  {
   "cell_type": "code",
   "execution_count": 29,
   "id": "da39e9d3",
   "metadata": {},
   "outputs": [
    {
     "name": "stdout",
     "output_type": "stream",
     "text": [
      "8645\n"
     ]
    }
   ],
   "source": [
    "#4. Quantos registros existem para o ano de 2011 na coluna datetime?\n",
    "df['datetime'] = pd.to_datetime(df['datetime'])\n",
    "ano = 2011\n",
    "qtd_registros_ano_2011 = len(df[df['datetime'].dt.year == ano])\n",
    "print(qtd_registros_ano_2011)"
   ]
  },
  {
   "cell_type": "code",
   "execution_count": 39,
   "id": "4915f740",
   "metadata": {},
   "outputs": [
    {
     "name": "stdout",
     "output_type": "stream",
     "text": [
      "8645\n"
     ]
    }
   ],
   "source": [
    "#5. Quantos registros existem para o ano de 2012?\n",
    "df['datetime'] = pd.to_datetime(df['datetime'])\n",
    "ano = 2011\n",
    "qtd_registros_ano = len(df[df['datetime'].dt.year == ano])\n",
    "print(qtd_registros_ano)"
   ]
  },
  {
   "cell_type": "code",
   "execution_count": 40,
   "id": "d8b069f3",
   "metadata": {},
   "outputs": [
    {
     "name": "stdout",
     "output_type": "stream",
     "text": [
      "247252\n"
     ]
    }
   ],
   "source": [
    "#6. Quantas locações (coluna = casual) de bicicletas foram efetuadas em 2011?\n",
    "df['datetime'] = pd.to_datetime(df['datetime'])\n",
    "ano = 2012\n",
    "total_casual_2012 = df[df['datetime'].dt.year == ano]['casual'].sum()\n",
    "print(total_casual_2011)"
   ]
  },
  {
   "cell_type": "code",
   "execution_count": 42,
   "id": "ba9dc0ce",
   "metadata": {},
   "outputs": [
    {
     "name": "stdout",
     "output_type": "stream",
     "text": [
      "Total de locações de bicicletas em 2012: 2049576\n"
     ]
    }
   ],
   "source": [
    "#7. Quantas locações de bicicletas foram efetuadas em 2012?\n",
    "locacoes_2012 = df[df['year'] == 1]\n",
    "total_locacoes_2012 = locacoes_2012['total_count'].sum()\n",
    "print(\"Total de locações de bicicletas em 2012:\", total_locacoes_2012)"
   ]
  },
  {
   "cell_type": "code",
   "execution_count": 44,
   "id": "48b5425b",
   "metadata": {},
   "outputs": [
    {
     "name": "stdout",
     "output_type": "stream",
     "text": [
      "Estação do ano com maior média de locações de bicicletas: 3\n"
     ]
    }
   ],
   "source": [
    "#8. Qual estação do ano contém a maior média de locações de bicicletas?\n",
    "media_locacoes_por_estacao = df.groupby('season')['total_count'].mean()\n",
    "estacao_maior_media = media_locacoes_por_estacao.idxmax()\n",
    "print(\"Estação do ano com maior média de locações de bicicletas:\", estacao_maior_media)"
   ]
  },
  {
   "cell_type": "code",
   "execution_count": 45,
   "id": "81d74ac5",
   "metadata": {},
   "outputs": [
    {
     "name": "stdout",
     "output_type": "stream",
     "text": [
      "Estação do ano com menor média de locações de bicicletas: 1\n"
     ]
    }
   ],
   "source": [
    "#9.Qual estação do ano contém a menor média de locações de bicicletas?\n",
    "media_locacoes_por_estacao = df.groupby('season')['total_count'].mean()\n",
    "estacao_menor_media = media_locacoes_por_estacao.idxmin()\n",
    "print(\"Estação do ano com menor média de locações de bicicletas:\", estacao_menor_media)"
   ]
  },
  {
   "cell_type": "code",
   "execution_count": 46,
   "id": "313ed559",
   "metadata": {},
   "outputs": [
    {
     "name": "stdout",
     "output_type": "stream",
     "text": [
      "Horário do dia com maior média de locações de bicicletas: 17\n"
     ]
    }
   ],
   "source": [
    "#10.Qual horário do dia contém a maior média de locações de bicicletas?\n",
    "media_locacoes_por_hora = df.groupby('hour')['total_count'].mean()\n",
    "horario_maior_media = media_locacoes_por_hora.idxmax()\n",
    "print(\"Horário do dia com maior média de locações de bicicletas:\", horario_maior_media)"
   ]
  },
  {
   "cell_type": "code",
   "execution_count": 48,
   "id": "8d0dff8a",
   "metadata": {},
   "outputs": [
    {
     "name": "stdout",
     "output_type": "stream",
     "text": [
      "Horário do dia com menor média de locações de bicicletas: 4\n"
     ]
    }
   ],
   "source": [
    "#11 Qual horário do dia contém a maior média de locações de bicicletas?\n",
    "media_locacoes_por_hora = df.groupby('hour')['total_count'].mean()\n",
    "horario_menor_media = media_locacoes_por_hora.idxmin()\n",
    "print(\"Horário do dia com menor média de locações de bicicletas:\", horario_menor_media)"
   ]
  },
  {
   "cell_type": "code",
   "execution_count": 50,
   "id": "ebc61df6",
   "metadata": {},
   "outputs": [
    {
     "name": "stdout",
     "output_type": "stream",
     "text": [
      "Dia da semana com maior média de locações de bicicletas: 4\n"
     ]
    }
   ],
   "source": [
    "#12 Qual horário do dia contém a menor média de locações de bicicletas?\n",
    "media_locacoes_por_dia_da_semana = df.groupby('weekday')['total_count'].mean()\n",
    "dia_maior_media = media_locacoes_por_dia_da_semana.idxmax()\n",
    "print(\"Dia da semana com maior média de locações de bicicletas:\", dia_maior_media)"
   ]
  },
  {
   "cell_type": "code",
   "execution_count": 51,
   "id": "eec48881",
   "metadata": {},
   "outputs": [
    {
     "name": "stdout",
     "output_type": "stream",
     "text": [
      "Dia da semana com menor média de locações de bicicletas: 0\n"
     ]
    }
   ],
   "source": [
    "#13 Que dia da semana contém a maior média de locações de bicicletas?\n",
    "media_locacoes_por_dia_da_semana = df.groupby('weekday')['total_count'].mean()\n",
    "dia_menor_media = media_locacoes_por_dia_da_semana.idxmin()\n",
    "print(\"Dia da semana com menor média de locações de bicicletas:\", dia_menor_media)"
   ]
  },
  {
   "cell_type": "code",
   "execution_count": 52,
   "id": "77fd1596",
   "metadata": {},
   "outputs": [
    {
     "name": "stdout",
     "output_type": "stream",
     "text": [
      "Horário do dia com maior média de locações de bicicletas às quartas-feiras: 17\n"
     ]
    }
   ],
   "source": [
    "#14 Às quartas-feiras (weekday = 3), qual o horário do dia contém a maior média de locações de bicicletas?\n",
    "quartas_feiras = df[df['weekday'] == 3]\n",
    "media_locacoes_quartas_feiras = quartas_feiras.groupby('hour')['total_count'].mean()\n",
    "horario_maior_media_quarta_feira = media_locacoes_quartas_feiras.idxmax()\n",
    "print(\"Horário do dia com maior média de locações de bicicletas às quartas-feiras:\", horario_maior_media_quarta_feira)"
   ]
  },
  {
   "cell_type": "code",
   "execution_count": 54,
   "id": "ed054181",
   "metadata": {},
   "outputs": [
    {
     "name": "stdout",
     "output_type": "stream",
     "text": [
      "Horário do dia com maior média de locações de bicicletas aos sábados: 13\n"
     ]
    }
   ],
   "source": [
    "#15 Aos sábados (weekday = 6), qual o horário do dia que contém a maior média de locações de bicicletas?\n",
    "sabados = df[df['weekday'] == 6]\n",
    "media_locacoes_sabados = sabados.groupby('hour')['total_count'].mean()\n",
    "horario_maior_media_sabado = media_locacoes_sabados.idxmax()\n",
    "print(\"Horário do dia com maior média de locações de bicicletas aos sábados:\", horario_maior_media_sabado)"
   ]
  }
 ],
 "metadata": {
  "kernelspec": {
   "display_name": "Python 3 (ipykernel)",
   "language": "python",
   "name": "python3"
  },
  "language_info": {
   "codemirror_mode": {
    "name": "ipython",
    "version": 3
   },
   "file_extension": ".py",
   "mimetype": "text/x-python",
   "name": "python",
   "nbconvert_exporter": "python",
   "pygments_lexer": "ipython3",
   "version": "3.11.5"
  }
 },
 "nbformat": 4,
 "nbformat_minor": 5
}
